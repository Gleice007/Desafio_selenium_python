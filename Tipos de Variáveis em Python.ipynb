{
 "cells": [
  {
   "cell_type": "markdown",
   "id": "7ac9c23d-c1e8-413a-8485-bf1f1b982b9a",
   "metadata": {},
   "source": [
    "Tipos de Variáveis em Python\n",
    "\n",
    "Uma variavel é um objeto, afinal tudo é um objeto em Python\n",
    "\n",
    "int -> Inteire\n",
    "string -> Texto\n",
    "float -> Números com casas decimais (ponto flutuante)\n",
    "bool ou boolean -> True ou False\n",
    "\n",
    "Obs: Variável em Python não são declaradas explicadamente, mas isso não significa que você de ficar mudando o tempo todo\n",
    "Obs2: Cuidado com os nomes restritos (arquivo para Download)\n"
   ]
  },
  {
   "cell_type": "code",
   "execution_count": 9,
   "id": "41c484ed-0841-4e08-8ef5-7b04d644e0da",
   "metadata": {},
   "outputs": [
    {
     "data": {
      "text/plain": [
       "int"
      ]
     },
     "execution_count": 9,
     "metadata": {},
     "output_type": "execute_result"
    }
   ],
   "source": [
    "faturamento = 1000\n",
    "type(faturamento)"
   ]
  },
  {
   "cell_type": "code",
   "execution_count": 11,
   "id": "d63558c3-c5df-477e-bda4-dcdd4c584e24",
   "metadata": {},
   "outputs": [
    {
     "data": {
      "text/plain": [
       "float"
      ]
     },
     "execution_count": 11,
     "metadata": {},
     "output_type": "execute_result"
    }
   ],
   "source": [
    "faturamento = 1000.00\n",
    "type(faturamento)"
   ]
  },
  {
   "cell_type": "code",
   "execution_count": 13,
   "id": "8c5fbc55-da94-4de8-8e5a-4db673cb6d35",
   "metadata": {},
   "outputs": [
    {
     "data": {
      "text/plain": [
       "str"
      ]
     },
     "execution_count": 13,
     "metadata": {},
     "output_type": "execute_result"
    }
   ],
   "source": [
    "faturamento = '1.000'\n",
    "type(faturamento)"
   ]
  },
  {
   "cell_type": "code",
   "execution_count": 15,
   "id": "b3e87430-8a47-4418-97e2-b4253eb57972",
   "metadata": {},
   "outputs": [
    {
     "data": {
      "text/plain": [
       "bool"
      ]
     },
     "execution_count": 15,
     "metadata": {},
     "output_type": "execute_result"
    }
   ],
   "source": [
    "ganha_bonus = True\n",
    "type(ganha_bonus)"
   ]
  },
  {
   "cell_type": "code",
   "execution_count": 7,
   "id": "f501472b-e95f-4918-b2de-ea3e18687c9b",
   "metadata": {},
   "outputs": [
    {
     "name": "stdout",
     "output_type": "stream",
     "text": [
      "500\n",
      "300\n"
     ]
    }
   ],
   "source": [
    "faturamento = 1000\n",
    "custo = 500\n",
    "lucro = faturamento - custo\n",
    "print(lucro)\n",
    "\n",
    "custo = 700\n",
    "lucro = faturamento - custo\n",
    "print(lucro)"
   ]
  }
 ],
 "metadata": {
  "kernelspec": {
   "display_name": "Python 3 (ipykernel)",
   "language": "python",
   "name": "python3"
  },
  "language_info": {
   "codemirror_mode": {
    "name": "ipython",
    "version": 3
   },
   "file_extension": ".py",
   "mimetype": "text/x-python",
   "name": "python",
   "nbconvert_exporter": "python",
   "pygments_lexer": "ipython3",
   "version": "3.12.4"
  }
 },
 "nbformat": 4,
 "nbformat_minor": 5
}
