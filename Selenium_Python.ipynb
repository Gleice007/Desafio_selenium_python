{
 "cells": [
  {
   "cell_type": "code",
   "execution_count": 5,
   "id": "2eda8949-f1e3-4526-a992-e6e2b9b975ef",
   "metadata": {},
   "outputs": [],
   "source": [
    "from selenium import webdriver\n",
    "from selenium.webdriver.chrome.service import Service\n",
    "from webdriver_manager.chrome import ChromeDriverManager\n",
    "\n",
    "servico = Service(ChromeDriverManager().install())\n",
    "navegador = webdriver.Chrome(service=servico)"
   ]
  },
  {
   "cell_type": "code",
   "execution_count": 7,
   "id": "4d3b41ca-11bb-40a8-962b-dd0a01cae5fb",
   "metadata": {},
   "outputs": [],
   "source": [
    "navegador.get(\"https://www.hashtagtreinamentos.com/\")"
   ]
  },
  {
   "cell_type": "code",
   "execution_count": 9,
   "id": "5be96552-fcba-4775-b428-251fe6a5942d",
   "metadata": {},
   "outputs": [],
   "source": [
    "from selenium.webdriver.common.by import By\n",
    "campo_nome = navegador.find_element(By.ID, 'firstname')\n",
    "campo_nome.send_keys(\"Gleiciele\")"
   ]
  },
  {
   "cell_type": "markdown",
   "id": "8acc97b5-a640-4d22-a143-ed0175193515",
   "metadata": {},
   "source": [
    "COMO NAVEGAR DENTRO DOS ARQUIVOS NO SEU COMPUTADOR"
   ]
  },
  {
   "cell_type": "markdown",
   "id": "86a8c895-5fb0-4ebf-840c-966e1a6032fb",
   "metadata": {},
   "source": [
    "import os\n",
    "caminho = os.getcwd()\n",
    "arquivo = caminho + r\"\\Selenium_Python\"\n",
    "navegador.get(arquivo)"
   ]
  }
 ],
 "metadata": {
  "kernelspec": {
   "display_name": "Python 3 (ipykernel)",
   "language": "python",
   "name": "python3"
  },
  "language_info": {
   "codemirror_mode": {
    "name": "ipython",
    "version": 3
   },
   "file_extension": ".py",
   "mimetype": "text/x-python",
   "name": "python",
   "nbconvert_exporter": "python",
   "pygments_lexer": "ipython3",
   "version": "3.12.4"
  }
 },
 "nbformat": 4,
 "nbformat_minor": 5
}
