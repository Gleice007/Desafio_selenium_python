{
 "cells": [
  {
   "cell_type": "markdown",
   "id": "524eaa08-af67-4edc-90c7-0c1ed84e8111",
   "metadata": {},
   "source": [
    "Blocos e Identação\n",
    "\n",
    "Estrutura \n",
    "sempre que usamos o if ou qualquer  outra estrutura do Python, devemos usar a identação para dizer para o Programa onde \n",
    "a estrutura começa e onde ela termina.\n",
    "\n",
    "Isso vai ajudar muito quando tivermos mais de 1 condição ao mesmo tempo e quando tivermos várias ações para fazer\n",
    "dentro de um if."
   ]
  },
  {
   "cell_type": "markdown",
   "id": "ce6d1853-47e6-464d-94ed-c400e2e63bbc",
   "metadata": {},
   "source": [
    "VÁRIAS AÇÕES EM 1 IF:"
   ]
  },
  {
   "cell_type": "markdown",
   "id": "dbc69773-816a-4c4b-8c48-c3b3b6388259",
   "metadata": {},
   "source": [
    "if condicao:\n",
    "    alguma coisa\n",
    "    outra coisa \n",
    "    outra coisa mais\n",
    "    outra coisa ainda mais \n",
    "else:\n",
    "    uma coisa \n",
    "    uma coisa mais\n",
    "    coisa final"
   ]
  },
  {
   "cell_type": "code",
   "execution_count": 13,
   "id": "7f497cd7-edd6-48c6-884a-bb218c6eb439",
   "metadata": {},
   "outputs": [
    {
     "name": "stdout",
     "output_type": "stream",
     "text": [
      "A taxa foi de 0.04\n"
     ]
    }
   ],
   "source": [
    "meta = 0.05\n",
    "taxa = 0\n",
    "rendimento = 0.25\n",
    "\n",
    "if rendimento > meta:\n",
    "     if rendimento > 0.20:\n",
    "         taxa = 0.04\n",
    "         print(\"A taxa foi de {}\".format(taxa))\n",
    "     else:\n",
    "         taxa = 0.02\n",
    "         print(\"A taxa foi de {}\".format(taxa))\n",
    "else:\n",
    "    taxa = 0 \n",
    "    print(\"A taxa foi de {}\".format(taxa))\n",
    "    \n",
    "    "
   ]
  }
 ],
 "metadata": {
  "kernelspec": {
   "display_name": "Python 3 (ipykernel)",
   "language": "python",
   "name": "python3"
  },
  "language_info": {
   "codemirror_mode": {
    "name": "ipython",
    "version": 3
   },
   "file_extension": ".py",
   "mimetype": "text/x-python",
   "name": "python",
   "nbconvert_exporter": "python",
   "pygments_lexer": "ipython3",
   "version": "3.12.4"
  }
 },
 "nbformat": 4,
 "nbformat_minor": 5
}
