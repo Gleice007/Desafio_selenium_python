{
 "cells": [
  {
   "cell_type": "markdown",
   "id": "52829389-4831-4fc9-9e43-377595ca0af9",
   "metadata": {},
   "source": [
    "Elif\n",
    "\n",
    "E se temos mais do que um caso de sim e não?\n",
    "E se tivermos 3 casos?\n",
    "Usamos o elif da seguinte forma:"
   ]
  },
  {
   "cell_type": "markdown",
   "id": "6a32f64b-bced-4b91-b069-f3d17e72b6b3",
   "metadata": {},
   "source": [
    "if condição:\n",
    "    o que fazer se a condição 1 for verdadeira\n",
    "elif condição_2:\n",
    "    o que fazer se a condição 1 for falsa e a condição 2 for verdadeira \n",
    "else:\n",
    "    o que fazer se a condição 1 e a condição 2 forem falsas\n"
   ]
  },
  {
   "cell_type": "markdown",
   "id": "d493bc71-ddd4-484c-95fc-07c6b96a1fde",
   "metadata": {},
   "source": [
    "EXEMPLO:\n",
    "\n",
    "Vamos criar um programa para analisar o bônus dos funcionários de uma empresa(pode aparecer \"Simples\", mas uma empresa como a Amazon tem 900.000\n",
    "funcionários)\n",
    "\n",
    "Para os cargos de vendedores, a regra do bônus é de acordo com a meta de venda da pessoa:\n",
    "Se ela vendeu abaixo da meta dela, ela não ganha bônus.\n",
    "Se ela vendeu acima da meta dela, ela ganha como bônus 3% do valor que ela vendeu.\n",
    "Se ela vendeu mais do que o dobro da meta dela, ela ganha como bônus 7% do valor que ela vendeu.\n",
    "\n",
    "Vamos criar um programa para avaliar uma pessoa que tinha como meta de vendas 20.000 reais e calcular o bônus dela de acordo com \n",
    "o valor de vendas que ela teve."
   ]
  }
 ],
 "metadata": {
  "kernelspec": {
   "display_name": "Python 3 (ipykernel)",
   "language": "python",
   "name": "python3"
  },
  "language_info": {
   "codemirror_mode": {
    "name": "ipython",
    "version": 3
   },
   "file_extension": ".py",
   "mimetype": "text/x-python",
   "name": "python",
   "nbconvert_exporter": "python",
   "pygments_lexer": "ipython3",
   "version": "3.12.4"
  }
 },
 "nbformat": 4,
 "nbformat_minor": 5
}
