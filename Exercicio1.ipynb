{
 "cells": [
  {
   "cell_type": "code",
   "execution_count": 9,
   "id": "b203000d-18a0-49d2-9c4b-e888d005a9ed",
   "metadata": {},
   "outputs": [
    {
     "name": "stdout",
     "output_type": "stream",
     "text": [
      "O faturamento da loja foi 1500\n",
      "O custo da loja foi 500\n",
      "Assim o lucro da loja foi 1000\n"
     ]
    }
   ],
   "source": [
    "faturamento = 1500\n",
    "custo = 500\n",
    "lucro = faturamento - custo \n",
    "\n",
    "print('O faturamento da loja foi ' + str(faturamento))\n",
    "print('O custo da loja foi ' + str(custo))\n",
    "print('Assim o lucro da loja foi ' + str(lucro))"
   ]
  },
  {
   "cell_type": "markdown",
   "id": "0295828c-c2f9-41be-8199-54fbf563adec",
   "metadata": {},
   "source": [
    "Método Format"
   ]
  },
  {
   "cell_type": "code",
   "execution_count": 23,
   "id": "5381429a-ed2f-456e-b80f-13ef732bdeb1",
   "metadata": {},
   "outputs": [
    {
     "name": "stdout",
     "output_type": "stream",
     "text": [
      "O faturamento da loja foi 2000\n",
      "O custo da loja foi 500\n",
      "Assim o lucro da loja foi 1500\n"
     ]
    }
   ],
   "source": [
    "faturamento = 2000\n",
    "custo = 500\n",
    "lucro = faturamento - custo \n",
    "\n",
    "print('O faturamento da loja foi {}'.format(faturamento))\n",
    "print('O custo da loja foi {}'.format(custo))\n",
    "print('Assim o lucro da loja foi {}'.format(lucro))\n"
   ]
  }
 ],
 "metadata": {
  "kernelspec": {
   "display_name": "Python 3 (ipykernel)",
   "language": "python",
   "name": "python3"
  },
  "language_info": {
   "codemirror_mode": {
    "name": "ipython",
    "version": 3
   },
   "file_extension": ".py",
   "mimetype": "text/x-python",
   "name": "python",
   "nbconvert_exporter": "python",
   "pygments_lexer": "ipython3",
   "version": "3.12.4"
  }
 },
 "nbformat": 4,
 "nbformat_minor": 5
}
