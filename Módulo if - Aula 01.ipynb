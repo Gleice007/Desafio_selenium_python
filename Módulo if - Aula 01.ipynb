{
 "cells": [
  {
   "cell_type": "markdown",
   "id": "dbd709cd-d200-4338-a97e-cda9c26d2372",
   "metadata": {},
   "source": [
    "Condições no Python -> If\n",
    "\n",
    "Estrutura:\n",
    "Uso mais simples:"
   ]
  },
  {
   "cell_type": "raw",
   "id": "b10da4a7-c262-43ad-ae8a-9070c00919b5",
   "metadata": {},
   "source": [
    "if condição:\n",
    "  o que fazer caso a condição seja verdadeira "
   ]
  },
  {
   "cell_type": "code",
   "execution_count": 1,
   "id": "346ed475-d5f2-4687-b4e7-2269c94dcf1a",
   "metadata": {},
   "outputs": [
    {
     "name": "stdout",
     "output_type": "stream",
     "text": [
      "Batemos a meta de vendas de Iphone, vendemos 65300 unidades\n"
     ]
    }
   ],
   "source": [
    "meta = 50000\n",
    "qtde_vendida = 65300\n",
    "\n",
    "if qtde_vendida > meta:\n",
    "    print('Batemos a meta de vendas de Iphone, vendemos {} unidades'.format(qtde_vendida))\n",
    "\n"
   ]
  },
  {
   "cell_type": "markdown",
   "id": "4da1c8c4-947b-455b-b6e3-1a3e4b231c49",
   "metadata": {},
   "source": [
    "Tratando a condição falsa:\n",
    "Quando usamos o if, nem sempre queremos apenas analisar o caso verdadeira, em boa parte das vezes queremos\n",
    "fazer alguma coisa caso a condição seja verdadeira e outra coisa caso a condição seja falsa.\n",
    "\n",
    "Nesse caso usaremos:\n",
    "\n",
    "if condição:\n",
    "    o que eu quero fazer caso a condição seja verdadeira\n",
    "else:\n",
    "    o que quero fazer caso a condição seja falsa \n",
    "\n",
    "* Caso o produto tenha batido a meta, devemos exibir a mensagem \"Batemos a meta de vendas de Iphone, vendemos {} unidades\".\n",
    "* Se ele não bateu a meta do mês, devemos exibir a mensagem:\"Infelizmente não batemos a meta, vendemos {} unidades.A meta era de {} unidades    "
   ]
  },
  {
   "cell_type": "code",
   "execution_count": 13,
   "id": "f1fbd6a4-e6bd-4919-949d-2889b41e09e0",
   "metadata": {},
   "outputs": [
    {
     "name": "stdout",
     "output_type": "stream",
     "text": [
      "Batemos a meta de vendas de Iphone, vendemos 70000 unidades\n"
     ]
    }
   ],
   "source": [
    "meta = 50000\n",
    "qtde_vendida = 70000\n",
    "\n",
    "if qtde_vendida >= meta:\n",
    "    print('Batemos a meta de vendas de Iphone, vendemos {} unidades'.format(qtde_vendida))\n",
    "else:\n",
    "    print(\"Infelizmente não batemos a meta, vendemos {} unidades\".format(qtde_vendida), \"A meta era de {} unidades\".format(meta))\n",
    "# print(\"Infelizmente não batemos a meta, vendemos {} unidades. A meta era de {} unidades\".format(qtde_vendida, meta))"
   ]
  }
 ],
 "metadata": {
  "kernelspec": {
   "display_name": "Python 3 (ipykernel)",
   "language": "python",
   "name": "python3"
  },
  "language_info": {
   "codemirror_mode": {
    "name": "ipython",
    "version": 3
   },
   "file_extension": ".py",
   "mimetype": "text/x-python",
   "name": "python",
   "nbconvert_exporter": "python",
   "pygments_lexer": "ipython3",
   "version": "3.12.4"
  }
 },
 "nbformat": 4,
 "nbformat_minor": 5
}
